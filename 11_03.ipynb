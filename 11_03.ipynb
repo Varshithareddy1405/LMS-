{
  "nbformat": 4,
  "nbformat_minor": 0,
  "metadata": {
    "colab": {
      "provenance": [],
      "authorship_tag": "ABX9TyMXFJWRr9T8e0ClbSXF26P3",
      "include_colab_link": true
    },
    "kernelspec": {
      "name": "python3",
      "display_name": "Python 3"
    },
    "language_info": {
      "name": "python"
    }
  },
  "cells": [
    {
      "cell_type": "markdown",
      "metadata": {
        "id": "view-in-github",
        "colab_type": "text"
      },
      "source": [
        "<a href=\"https://colab.research.google.com/github/Varshithareddy1405/LMS-/blob/main/11_03.ipynb\" target=\"_parent\"><img src=\"https://colab.research.google.com/assets/colab-badge.svg\" alt=\"Open In Colab\"/></a>"
      ]
    },
    {
      "cell_type": "code",
      "execution_count": 9,
      "metadata": {
        "id": "4p-D8nxmXkP0"
      },
      "outputs": [],
      "source": [
        "import google.generativeai as genai\n",
        "from google.colab import userdata\n",
        "GOOGLE_API_I= userdata.get('GOOGLE_API_I')\n",
        "genai.configure(api_key=GOOGLE_API_I)"
      ]
    },
    {
      "cell_type": "code",
      "source": [
        "import pathlib\n",
        "import textwrap\n",
        "\n",
        "from IPython.display import display, Markdown\n",
        "\n",
        "import pathlib\n",
        "import textwrap\n",
        "\n",
        "from IPython.display import display, Markdown\n",
        "\n",
        "def to_markdown(text):\n",
        "    text = text.replace('*', ' - ')\n",
        "    return Markdown(textwrap.indent(text, '> ', predicate=lambda _: True))"
      ],
      "metadata": {
        "id": "Rkm3A1p7ZCxa"
      },
      "execution_count": 11,
      "outputs": []
    },
    {
      "cell_type": "code",
      "source": [
        "from google import genai\n",
        "from google.genai import types\n",
        "client=genai.Client(api_key=GOOGLE_API_I)"
      ],
      "metadata": {
        "id": "3Hb6sr1aZZeW"
      },
      "execution_count": 13,
      "outputs": []
    },
    {
      "cell_type": "code",
      "source": [
        "import PIL.Image\n",
        "import google.generativeai as genai # Import the correct module using its original name\n",
        "\n",
        "img = PIL.Image.open('Image1.jpg')\n",
        "img\n",
        "response = model.generate_content([\"Write a short, engaging blog post based on this picture. It should include a description of the meal in the photo and talk about my journey meal prepping.\", img],stream=True)\n",
        "response.resolve()"
      ],
      "metadata": {
        "id": "J-MOa4xRZ2xs"
      },
      "execution_count": 20,
      "outputs": []
    },
    {
      "cell_type": "code",
      "source": [
        "to_markdown(response.text)"
      ],
      "metadata": {
        "colab": {
          "base_uri": "https://localhost:8080/",
          "height": 313
        },
        "id": "ViXxzirQbXKS",
        "outputId": "2e4e43cf-6fcf-44ff-bcfb-e7263966c13e"
      },
      "execution_count": 21,
      "outputs": [
        {
          "output_type": "execute_result",
          "data": {
            "text/plain": [
              "<IPython.core.display.Markdown object>"
            ],
            "text/markdown": "> ## My Meal Prep Journey: From Chaos to Colorful Containers!\n> \n> Look at these beauties!  These aren't just lunch boxes; they're little edible rainbows packed with deliciousness.  Each one contains a generous portion of fluffy white rice, tender teriyaki chicken, vibrant orange and red carrots and peppers, and a healthy dose of broccoli.  It's the perfect balance of protein, carbs, and veggies – exactly what I need to fuel my day.\n> \n> My journey to becoming a meal-prepping pro wasn't always so picture-perfect.  For years, lunch was a last-minute scramble, often resulting in sad desk lunches or skipping meals altogether.  I knew I needed a change, but the thought of spending a whole Sunday in the kitchen felt daunting.\n> \n> Then I decided to start small.  One simple recipe, doubled.  That's it.  It wasn't about perfection, it was about progress.  Gradually, I built my repertoire of easy-to-make, healthy meals that could be easily portioned out.  \n> \n> Now, meal prepping is my secret weapon.  It saves me time, money, and reduces my reliance on unhealthy takeout.  Plus, having these vibrant containers ready to go makes even the busiest days feel a little more manageable.  \n> \n> So, if you're thinking about starting your own meal prep journey, don't be intimidated!  Start small, find recipes you enjoy, and embrace the process.  You'll be surprised how much it changes your relationship with food and your overall well-being.  And who knows, maybe you'll even end up with lunch containers as pretty as mine!\n"
          },
          "metadata": {},
          "execution_count": 21
        }
      ]
    },
    {
      "cell_type": "code",
      "source": [
        "response = model.generate_content([\"Generate an accurate caption for this image.\", img])\n",
        "print(response.text)"
      ],
      "metadata": {
        "colab": {
          "base_uri": "https://localhost:8080/",
          "height": 451
        },
        "id": "En-Kuh2Bcpyq",
        "outputId": "7834f9a9-2439-465b-9519-7fff1a482b64"
      },
      "execution_count": 23,
      "outputs": [
        {
          "output_type": "stream",
          "name": "stdout",
          "text": [
            "Here are a few caption options for the image of two containers of rice with chicken, broccoli, and carrots:\n",
            "\n",
            "**Option 1 (Simple & Descriptive):**\n",
            "\n",
            "> Healthy and delicious meal prep!  Chicken and broccoli with rice and carrots.\n",
            "\n",
            "**Option 2 (Slightly More Engaging):**\n",
            "\n",
            "> Lunch goals!  These easy-to-pack containers are perfect for a quick and nutritious meal on the go.  Chicken, broccoli, carrots, and rice.\n",
            "\n",
            "**Option 3 (Focus on Health):**\n",
            "\n",
            "> Fueling my body with goodness.  This protein-packed meal prep is full of delicious veggies and lean protein.\n",
            "\n",
            "**Option 4 (More Playful):**\n",
            "\n",
            ">  Prepped and ready to conquer the day!  Who needs takeout when you have these tasty meal prep containers?\n",
            "\n",
            "**Option 5 (Question to Engage Audience):**\n",
            "\n",
            "> What's your favorite healthy meal prep recipe?  This chicken and broccoli bowl is definitely a contender!\n",
            "\n",
            "\n",
            "Choose the caption that best suits your style and intended audience.\n",
            "\n"
          ]
        }
      ]
    },
    {
      "cell_type": "code",
      "source": [
        "from PIL import Image\n",
        "image_path=\"girl.jpg\"\n",
        "image = Image.open(image_path)\n",
        "response=model.generate_content([\"Describe this image in detail.\",image])\n",
        "print(response.text)"
      ],
      "metadata": {
        "colab": {
          "base_uri": "https://localhost:8080/",
          "height": 295
        },
        "id": "1PKHW8uRefdX",
        "outputId": "ae055478-9b90-483a-e8c7-a83e02058f39"
      },
      "execution_count": 24,
      "outputs": [
        {
          "output_type": "stream",
          "name": "stdout",
          "text": [
            "Here's a description of the image:\n",
            "\n",
            "Close-up view of a woman with shoulder-length, curly dark brown hair. \n",
            "\n",
            "\n",
            "She's wearing a teal-colored, three-quarter sleeve top with a subtle, repeating gold pattern. The top appears to be made of a lightweight fabric. \n",
            "\n",
            "\n",
            "The woman is smiling warmly and pointing to her side with her index finger. Her arms are slightly crossed, and her pose is relaxed yet engaging. \n",
            "\n",
            "\n",
            "Her makeup is subtle, and her skin tone is medium. She has dark eyes and full lips.\n",
            "\n",
            "\n",
            "The background is plain white, which keeps the focus entirely on the woman. The overall impression is one of friendliness and approachability.\n",
            "\n"
          ]
        }
      ]
    },
    {
      "cell_type": "code",
      "source": [
        "response=model.generate_content([\"What emotions can you detect in this image?\",image])\n",
        "print(response.text)"
      ],
      "metadata": {
        "colab": {
          "base_uri": "https://localhost:8080/",
          "height": 156
        },
        "id": "rtuBAfjVgdzx",
        "outputId": "3e29b83c-a44f-4956-fde3-07c159a9e299"
      },
      "execution_count": 25,
      "outputs": [
        {
          "output_type": "stream",
          "name": "stdout",
          "text": [
            "The woman in the image displays a range of emotions, primarily:\n",
            "\n",
            "* **Happiness/Joy:** Her smile is genuine and bright, suggesting a positive emotional state.\n",
            "* **Confidence:** Her posture and direct gaze suggest self-assurance. The way she points indicates she is comfortable and assertive.\n",
            "* **Helpfulness/Informativeness:** The pointing gesture implies she is offering information or guidance.  She looks friendly and approachable.\n",
            "\n",
            "There's no indication of negative emotions in the image.  The overall impression is one of positivity and engagement.\n",
            "\n"
          ]
        }
      ]
    },
    {
      "cell_type": "code",
      "source": [
        "image_path='quote.jpg'\n",
        "image = Image.open(image_path)\n",
        "response=model.generate_content([\"Extract and read the text from this image.\",image])\n",
        "print(response.text)"
      ],
      "metadata": {
        "colab": {
          "base_uri": "https://localhost:8080/",
          "height": 121
        },
        "id": "nRNjJcvBhsO7",
        "outputId": "2c5a7b89-495c-4a35-f4dd-9a3c3ee4655e"
      },
      "execution_count": 27,
      "outputs": [
        {
          "output_type": "stream",
          "name": "stdout",
          "text": [
            "Here's the text from the image:\n",
            "\n",
            "FAILURE is not the\n",
            "opposite of success\n",
            "it's PART OF\n",
            "SUCCESS\n"
          ]
        }
      ]
    },
    {
      "cell_type": "code",
      "source": [],
      "metadata": {
        "id": "P92_b8EmkFrC"
      },
      "execution_count": null,
      "outputs": []
    }
  ]
}