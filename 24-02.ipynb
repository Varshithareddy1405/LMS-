{
 "cells": [
  {
   "cell_type": "code",
   "execution_count": null,
   "id": "5e687553-c577-48d4-ab0f-c8d711363649",
   "metadata": {},
   "outputs": [],
   "source": []
  }
 ],
 "metadata": {
  "kernelspec": {
   "display_name": "",
   "name": ""
  },
  "language_info": {
   "name": ""
  }
 },
 "nbformat": 4,
 "nbformat_minor": 5
}
