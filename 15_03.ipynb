{
  "nbformat": 4,
  "nbformat_minor": 0,
  "metadata": {
    "colab": {
      "provenance": [],
      "authorship_tag": "ABX9TyNrkfwbT1tytjtZ6i5BIP16",
      "include_colab_link": true
    },
    "kernelspec": {
      "name": "python3",
      "display_name": "Python 3"
    },
    "language_info": {
      "name": "python"
    }
  },
  "cells": [
    {
      "cell_type": "markdown",
      "metadata": {
        "id": "view-in-github",
        "colab_type": "text"
      },
      "source": [
        "<a href=\"https://colab.research.google.com/github/Varshithareddy1405/LMS-/blob/main/15_03.ipynb\" target=\"_parent\"><img src=\"https://colab.research.google.com/assets/colab-badge.svg\" alt=\"Open In Colab\"/></a>"
      ]
    },
    {
      "cell_type": "code",
      "execution_count": 1,
      "metadata": {
        "id": "BjerYQztWNdE"
      },
      "outputs": [],
      "source": [
        "import google.generativeai as genai\n",
        "from google.colab import userdata\n",
        "GOOGLE_API_I=userdata.get('GOOGLE_API_I')\n",
        "genai.configure(api_key=GOOGLE_API_I)"
      ]
    },
    {
      "cell_type": "code",
      "source": [
        "!pip install PyPDF2"
      ],
      "metadata": {
        "colab": {
          "base_uri": "https://localhost:8080/"
        },
        "id": "VFXydz9CWaJ7",
        "outputId": "32d7646e-1a40-40d0-9234-8e47d7a36f71"
      },
      "execution_count": 2,
      "outputs": [
        {
          "output_type": "stream",
          "name": "stdout",
          "text": [
            "Collecting PyPDF2\n",
            "  Downloading pypdf2-3.0.1-py3-none-any.whl.metadata (6.8 kB)\n",
            "Downloading pypdf2-3.0.1-py3-none-any.whl (232 kB)\n",
            "\u001b[2K   \u001b[90m━━━━━━━━━━━━━━━━━━━━━━━━━━━━━━━━━━━━━━━━\u001b[0m \u001b[32m232.6/232.6 kB\u001b[0m \u001b[31m4.8 MB/s\u001b[0m eta \u001b[36m0:00:00\u001b[0m\n",
            "\u001b[?25hInstalling collected packages: PyPDF2\n",
            "Successfully installed PyPDF2-3.0.1\n"
          ]
        }
      ]
    },
    {
      "cell_type": "code",
      "source": [
        "import PyPDF2\n",
        "def extract_text_from_pdf(pdf_path):\n",
        "  \"\"\"Extracts text from a given health report PDF using PyPDF2.\"\"\"\n",
        "  text=\"\"\n",
        "  with open(pdf_path,\"rb\") as file:\n",
        "    reader=PyPDF2.PdfReader(file)\n",
        "    for page in reader.pages:\n",
        "      text+=page.extract_text()+\"\\n\"\n",
        "  return text"
      ],
      "metadata": {
        "id": "RGHCKN0AWhGN"
      },
      "execution_count": 4,
      "outputs": []
    },
    {
      "cell_type": "code",
      "source": [
        "def extract_health_insights(text):\n",
        "  model=genai.GenerativeModel(\"gemini-1.5-flash\")\n",
        "  prompt=f\"Extract key insights from the following health report:\\n\\n{text}\"\n",
        "  response=model.generate_content(prompt)\n",
        "  return response.text\n",
        "pdf_file=\"health_report.pdf\"\n",
        "extracted_text=extract_text_from_pdf(pdf_file)\n",
        "insights=extract_health_insights(extracted_text)\n",
        "print(\"Key insights:\\n\",insights)"
      ],
      "metadata": {
        "colab": {
          "base_uri": "https://localhost:8080/",
          "height": 488
        },
        "id": "T5jqFhXNWlBs",
        "outputId": "9df4afac-e359-415c-eb09-ed4974156483"
      },
      "execution_count": 6,
      "outputs": [
        {
          "output_type": "stream",
          "name": "stdout",
          "text": [
            "Key insights:\n",
            " Mr. Kishan Goud's (MR2100003157, 56 years old) health report from February 1st, 2021, reveals the following key insights:\n",
            "\n",
            "**Infectious Diseases:**\n",
            "\n",
            "* **Negative for:** Dengue (NS1 antigen, IgG, IgM), Malaria (Plasmodium falciparum and vivax).\n",
            "* **Widal Test:**  Elevated titers for *Salmonella Typhi* \"O\" (1:160) and \"H\" (1:80), suggesting a possible past or current infection.  *Salmonella Paratyphi* \"A\" and \"B\" titers are within the normal range.  Further investigation may be needed to confirm active typhoid infection.\n",
            "\n",
            "**Hematology:**\n",
            "\n",
            "* **Complete Blood Picture (CBC):**  All parameters (Hemoglobin, RBC, WBC, Platelets, PCV) are within or near the normal range.  Differential count shows normal ranges for neutrophils, lymphocytes, eosinophils, monocytes, and basophils. The peripheral blood smear shows normal findings.\n",
            "* **Erythrocyte Sedimentation Rate (ESR):** Elevated (26 mm/hr in the first hour, 52 mm/hr in the second hour), suggesting inflammation. This needs further investigation to determine the cause.\n",
            "\n",
            "**Blood Chemistry:**\n",
            "\n",
            "* **Liver Function Test (LFT):**  All liver enzymes (bilirubin - total, direct, indirect, alkaline phosphatase, SGOT, SGPT) and proteins (total protein, albumin, globulin, A/G ratio) are within the normal range.\n",
            "* **Renal Function Test:** Serum creatinine is within the normal range (0.8 mg/dl).\n",
            "* **Electrolytes:** Sodium is slightly low (122 mmol/l), while potassium and chloride are within the normal range.  The low sodium warrants further assessment.\n",
            "* **Blood Glucose:** Random blood glucose level is not provided in this report.\n",
            "* **HbA1c:**  Within the normal non-diabetic range (5.4%), indicating good blood sugar control.\n",
            "\n",
            "\n",
            "**Overall:**\n",
            "\n",
            "The report shows some inconsistencies. While most blood tests are within normal limits, the elevated ESR and slightly low sodium along with the positive Widal test results suggest the need for further investigation.  The elevated Widal test titres warrant consideration of  typhoid fever, but this needs confirmation through other diagnostic methods (e.g., blood culture).  The cause of the elevated ESR also needs to be determined.  The slightly low sodium level should be evaluated further.  The doctor (Krishna Prasad) should interpret these results in the context of Mr. Kishan Goud's clinical presentation and order further tests if deemed necessary.\n",
            "\n"
          ]
        }
      ]
    },
    {
      "cell_type": "code",
      "source": [
        "def summarize_health_report(text):\n",
        "  model=genai.GenerativeModel(\"gemini-1.5-flash\")\n",
        "  prompt=f\"Summarize the following health report:\\n\\n{text}\"\n",
        "  response=model.generate_content(prompt)\n",
        "  return response.text\n",
        "summary=summarize_health_report(extracted_text)\n",
        "print(\"Summary: \\n\",summary)"
      ],
      "metadata": {
        "colab": {
          "base_uri": "https://localhost:8080/",
          "height": 471
        },
        "id": "nNE49hqFWpWv",
        "outputId": "822e77ce-c16d-482b-853e-a54aa4e37702"
      },
      "execution_count": 7,
      "outputs": [
        {
          "output_type": "stream",
          "name": "stdout",
          "text": [
            "Summary: \n",
            " This is a comprehensive health report for Mr. Kishan Goud (MR2100003157), a 56-year-old male, dated February 1st, 2021.  The report includes several tests:\n",
            "\n",
            "**Infectious Disease Screening:**\n",
            "\n",
            "* **Widal Test:** Elevated titers for *Salmonella Typhi* \"O\" (1:160) and \"H\" (1:80), suggesting possible past or present typhoid infection.  *Salmonella Paratyphi* \"AH\" and \"BH\" titers were within the normal range.\n",
            "* **Dengue Serology:** Negative for Dengue NS1 antigen, IgG, and IgM antibodies.\n",
            "* **Malaria Rapid Test:** Negative for both *Plasmodium falciparum* and *Plasmodium vivax*.\n",
            "\n",
            "**Hematology:**\n",
            "\n",
            "* **Complete Blood Picture (CBC):**  Hemoglobin, RBC, WBC, and platelet counts were within normal ranges.  Differential count showed normal distribution of white blood cells.\n",
            "* **Erythrocyte Sedimentation Rate (ESR):** Elevated (26 mm/hr in the first hour, 52 mm/hr in the second hour), suggesting inflammation.\n",
            "\n",
            "**Biochemistry:**\n",
            "\n",
            "* **Liver Function Test (LFT):** All liver enzymes (bilirubin, alkaline phosphatase, SGOT, SGPT) were within normal or slightly elevated ranges. Total protein and albumin were within normal range.\n",
            "* **Serum Electrolytes:** Sodium was slightly low (122 mmol/l), while potassium and chloride were within normal ranges.\n",
            "* **Random Blood Glucose:** Within the normal range.\n",
            "* **HbA1c:** Within the normal non-diabetic range (5.4%).\n",
            "* **Serum Creatinine:** Within the normal range (0.8 mg/dl).\n",
            "\n",
            "\n",
            "**Overall:** The report shows some indicators of past or present infection (Widal test), and mild inflammation (ESR).  The slightly low sodium level warrants further investigation.  Otherwise, most other results are within normal ranges.  The significance of the findings requires interpretation by a physician considering the patient's clinical presentation and history.\n",
            "\n"
          ]
        }
      ]
    },
    {
      "cell_type": "code",
      "source": [
        "def detect_abnormalities(text):\n",
        "    \"\"\"Analyzes lab test results and flags abnormal values.\"\"\"\n",
        "    model = genai.GenerativeModel(\"gemini-1.5-flash\")\n",
        "    prompt = f\"Analyze the lab test results in the following health report and highlight any abnormal values:\\n\\n{text}\"\n",
        "    response = model.generate_content(prompt)\n",
        "    return response.text\n",
        "abnormalities = detect_abnormalities(extracted_text)\n",
        "print(\"Potential Abnormalities:\\n\",abnormalities)"
      ],
      "metadata": {
        "colab": {
          "base_uri": "https://localhost:8080/",
          "height": 280
        },
        "id": "cXckPFzNWyH3",
        "outputId": "dc6cb7a7-a34a-4632-fa72-c68699a40e38"
      },
      "execution_count": 8,
      "outputs": [
        {
          "output_type": "stream",
          "name": "stdout",
          "text": [
            "Potential Abnormalities:\n",
            " Based on the provided lab results, the following values are outside the given biological reference ranges, indicating potential abnormalities:\n",
            "\n",
            "* **Widal Test:**  S. Typhi \"O\" (1:160) and S. Typhi \"H\" (1:80) are significantly higher than the reference range (1:20). This suggests a possible past or present infection with *Salmonella Typhi*,  the bacteria that causes typhoid fever.  Further investigation and clinical correlation are needed to confirm this.\n",
            "\n",
            "* **ESR (Erythrocyte Sedimentation Rate):** Both the 1st hour (26 mm/hr) and 2nd hour (52 mm/hr) values are elevated compared to the reference range (0-8 mm/hr for the 1st hour). This indicates inflammation or infection somewhere in the body.  It is a non-specific marker, so further tests are necessary to pinpoint the cause.\n",
            "\n",
            "* **Serum Sodium:** 122 mmol/l is below the reference range of 135-146 mmol/l. This is considered hyponatremia (low sodium levels in the blood), which can have various causes, including dehydration, kidney problems, or hormonal imbalances.\n",
            "\n",
            "* **Serum Chloride:** 97 mmol/l is below the reference range of 98-107 mmol/l.  This is mild hypochloremia (low chloride levels), often associated with hyponatremia or other electrolyte imbalances.\n",
            "\n",
            "\n",
            "**Important Note:**  I am an AI and cannot provide medical diagnoses.  These highlighted results indicate potential problems requiring further medical evaluation and investigation by a qualified healthcare professional.  The doctor should consider the patient's symptoms, medical history, and other test results to determine the cause of these abnormalities and appropriate treatment.  The slightly low RBC count and Lymphocytes slightly above the range also warrant further investigation within the clinical context.\n",
            "\n"
          ]
        }
      ]
    },
    {
      "cell_type": "code",
      "source": [
        "def explain_medical_terms(text):\n",
        "    model = genai.GenerativeModel('gemini-1.5-flash')\n",
        "    prompt = f\"Explain the medical terms in the following health report in simple language:\\n\\n{text}\"\n",
        "    response = model.generate_content(prompt)\n",
        "    return response.text\n",
        "explanation = explain_medical_terms(extracted_text)\n",
        "print(\"Simplified Explanation:\\n\",explanation)"
      ],
      "metadata": {
        "colab": {
          "base_uri": "https://localhost:8080/",
          "height": 1000
        },
        "id": "4gvzF_jqW0Uy",
        "outputId": "469edc88-3f76-425e-bc70-82e502c676b6"
      },
      "execution_count": 11,
      "outputs": [
        {
          "output_type": "stream",
          "name": "stdout",
          "text": [
            "Simplified Explanation:\n",
            " This report shows the results of several blood tests performed on Mr. Kishan Goud. Let's break down each section:\n",
            "\n",
            "\n",
            "**1. WIDAL Test:** This test checks for antibodies against *Salmonella Typhi* and *Salmonella Paratyphi*, bacteria that cause typhoid fever and paratyphoid fever, respectively.  The numbers (e.g., 1:160) represent the dilution of the blood sample at which antibodies are still detected.  Higher numbers suggest a higher antibody level, possibly indicating a past or current infection.\n",
            "\n",
            "* **S. Typhi \"O\" 1:160:**  A relatively high antibody level against the \"O\" antigen of *Salmonella Typhi*.  This antigen is part of the bacteria's cell wall.\n",
            "* **S. Typhi \"H\" 1:80:**  A moderate antibody level against the \"H\" antigen of *Salmonella Typhi*. This antigen is a flagellar protein.\n",
            "* **S. Paratyphi \"AH\" 1:20:** Antibody level within the normal range for *Salmonella Paratyphi* \"A\" H antigen.\n",
            "* **S. Paratyphi \"BH\" 1:20:** Antibody level within the normal range for *Salmonella Paratyphi* \"B\" H antigen.\n",
            "\n",
            "**Important Note:**  A positive Widal test alone isn't enough to diagnose typhoid fever.  Other factors and tests are needed to confirm a diagnosis.\n",
            "\n",
            "\n",
            "**2. Dengue Serology:** This tests for dengue fever.\n",
            "\n",
            "* **Dengue NS1 Antigen:** Negative - No dengue virus protein detected.\n",
            "* **Dengue IgG:** Negative -  No antibodies indicating past dengue infection detected.\n",
            "* **Dengue IgM:** Negative - No antibodies indicating a recent dengue infection detected.\n",
            "\n",
            "\n",
            "**3. Erythrocyte Sedimentation Rate (ESR):** This measures how quickly red blood cells settle at the bottom of a test tube. A high ESR can indicate inflammation or infection in the body.  The results show an elevated ESR, suggesting possible inflammation.\n",
            "\n",
            "\n",
            "**4. Rapid Malaria Test:** This tests for malaria parasites. Both *Plasmodium vivax* (P.V) and *Plasmodium falciparum* (P.F) tests were negative, indicating no malaria infection.\n",
            "\n",
            "\n",
            "**5. Complete Blood Picture (CBC):** This provides a comprehensive overview of the blood's components.\n",
            "\n",
            "* **Hemoglobin (Hb):** 13.6 gms% (within the normal range). This measures the oxygen-carrying capacity of the blood.\n",
            "* **Red Blood Cells (RBC):** 4.3 mill/cumm (slightly below the lower end of the normal range).\n",
            "* **White Blood Cells (WBC):** 7,200 cells/cumm (within the normal range). These fight infection.\n",
            "* **Platelet Count:** 2.0 lakhs/cumm (within the normal range). These help with blood clotting.\n",
            "* **Packed Cell Volume (PCV):** 40.5% (within the normal range). This is the percentage of red blood cells in the blood.\n",
            "* **Differential Count:** This shows the proportions of different types of white blood cells (neutrophils, lymphocytes, eosinophils, monocytes, basophils), all within normal limits.\n",
            "* **Peripheral Blood Smear:**  Describes the appearance of the blood cells under a microscope; all appear normal.\n",
            "\n",
            "\n",
            "**6. HbA1c:** This test measures average blood sugar levels over the past 2-3 months. The result (5.4%) is within the normal range for a non-diabetic person.\n",
            "\n",
            "\n",
            "**7. Serum Creatinine:** This measures kidney function. The result (0.8 mg/dl) is within the normal range.\n",
            "\n",
            "\n",
            "**8. Random Blood Glucose:** This measures blood sugar at a random time. The result is missing from the provided report.\n",
            "\n",
            "\n",
            "**9. Liver Function Test (LFT):**  These tests assess liver health.  All results are within the normal range:\n",
            "\n",
            "* **Total Bilirubin:**  Measures the breakdown product of hemoglobin.\n",
            "* **Direct Bilirubin:** A type of bilirubin.\n",
            "* **Indirect Bilirubin:** Another type of bilirubin.\n",
            "* **Alkaline Phosphatase:** An enzyme found in the liver and bones.\n",
            "* **SGOT (AST):**  An enzyme found in the liver and other tissues.\n",
            "* **SGPT (ALT):** An enzyme primarily found in the liver.\n",
            "* **Total Protein:** The total amount of protein in the blood.\n",
            "* **Albumin:** A type of protein in the blood.\n",
            "* **Globulin:** Another type of protein in the blood.\n",
            "* **A/G Ratio:** The ratio of albumin to globulin.\n",
            "\n",
            "\n",
            "**10. Serum Electrolytes:** These tests measure the levels of sodium, potassium, and chloride in the blood. Serum Sodium is slightly low, while other values are within normal limits.\n",
            "\n",
            "\n",
            "**In Summary:** Most of Mr. Kishan Goud's test results are within the normal range.  The slightly elevated ESR and the Widal test results warrant further investigation by his doctor to determine if there's any underlying condition, especially considering the relatively high S. Typhi \"O\" antibody level.  He should discuss these results with his physician, Dr. Krishna Prasad, for proper interpretation and further management.  The slightly low serum sodium level also requires further consideration.\n",
            "\n"
          ]
        }
      ]
    },
    {
      "cell_type": "code",
      "source": [
        "def ask_gemini_about_report(text,question):\n",
        "  \"\"\"Allows users to ask questions about their health report.\"\"\"\n",
        "  model=genai.GenerativeModel(\"gemini-1.5-flash\")\n",
        "  prompt=f\"Answer the following question about the health report:\\n\\n{text}\\n\\nAnswer the following question absed on the report:\\n{question}\"\n",
        "  response=model.generate_content(prompt)\n",
        "  return response\n",
        "question=\"What is the patients diagnosis?\"\n",
        "answer=ask_gemini_about_report(extracted_text,question)\n",
        "print(\"Answer:\\n\",answer)"
      ],
      "metadata": {
        "colab": {
          "base_uri": "https://localhost:8080/",
          "height": 523
        },
        "id": "SSuUKQx0W28K",
        "outputId": "8762c19c-7522-423e-bb32-2cd6d1b2dd2b"
      },
      "execution_count": 12,
      "outputs": [
        {
          "output_type": "stream",
          "name": "stdout",
          "text": [
            "Answer:\n",
            " response:\n",
            "GenerateContentResponse(\n",
            "    done=True,\n",
            "    iterator=None,\n",
            "    result=protos.GenerateContentResponse({\n",
            "      \"candidates\": [\n",
            "        {\n",
            "          \"content\": {\n",
            "            \"parts\": [\n",
            "              {\n",
            "                \"text\": \"The provided lab report shows results, not a diagnosis.  It lists various tests for infectious diseases (typhoid, dengue, malaria), blood counts, liver function, electrolytes, and blood glucose.  Several results are outside the reference range (ESR, serum sodium), but this alone doesn't provide a diagnosis. A physician would interpret these results in the context of the patient's symptoms, medical history, and a physical examination to arrive at a diagnosis.\\n\"\n",
            "              }\n",
            "            ],\n",
            "            \"role\": \"model\"\n",
            "          },\n",
            "          \"finish_reason\": \"STOP\",\n",
            "          \"avg_logprobs\": -0.2993246037909325\n",
            "        }\n",
            "      ],\n",
            "      \"usage_metadata\": {\n",
            "        \"prompt_token_count\": 3093,\n",
            "        \"candidates_token_count\": 94,\n",
            "        \"total_token_count\": 3187\n",
            "      },\n",
            "      \"model_version\": \"gemini-1.5-flash\"\n",
            "    }),\n",
            ")\n"
          ]
        }
      ]
    },
    {
      "cell_type": "code",
      "source": [],
      "metadata": {
        "id": "2VOKss6ZXuw-"
      },
      "execution_count": null,
      "outputs": []
    }
  ]
}