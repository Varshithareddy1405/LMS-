{
 "cells": [
  {
   "cell_type": "code",
   "execution_count": 1,
   "id": "8ca9cc70-f619-4344-9da3-29beedd0cfae",
   "metadata": {},
   "outputs": [
    {
     "name": "stdout",
     "output_type": "stream",
     "text": [
      "Requirement already satisfied: transformers in c:\\users\\gunnala varshitha\\anaconda3\\lib\\site-packages (4.49.0)\n",
      "Collecting torch\n",
      "  Using cached torch-2.6.0-cp312-cp312-win_amd64.whl.metadata (28 kB)\n",
      "Requirement already satisfied: filelock in c:\\users\\gunnala varshitha\\anaconda3\\lib\\site-packages (from transformers) (3.13.1)\n",
      "Requirement already satisfied: huggingface-hub<1.0,>=0.26.0 in c:\\users\\gunnala varshitha\\anaconda3\\lib\\site-packages (from transformers) (0.29.1)\n",
      "Requirement already satisfied: numpy>=1.17 in c:\\users\\gunnala varshitha\\anaconda3\\lib\\site-packages (from transformers) (1.26.4)\n",
      "Requirement already satisfied: packaging>=20.0 in c:\\users\\gunnala varshitha\\anaconda3\\lib\\site-packages (from transformers) (24.1)\n",
      "Requirement already satisfied: pyyaml>=5.1 in c:\\users\\gunnala varshitha\\anaconda3\\lib\\site-packages (from transformers) (6.0.1)\n",
      "Requirement already satisfied: regex!=2019.12.17 in c:\\users\\gunnala varshitha\\anaconda3\\lib\\site-packages (from transformers) (2024.9.11)\n",
      "Requirement already satisfied: requests in c:\\users\\gunnala varshitha\\anaconda3\\lib\\site-packages (from transformers) (2.32.3)\n",
      "Requirement already satisfied: tokenizers<0.22,>=0.21 in c:\\users\\gunnala varshitha\\anaconda3\\lib\\site-packages (from transformers) (0.21.0)\n",
      "Requirement already satisfied: safetensors>=0.4.1 in c:\\users\\gunnala varshitha\\anaconda3\\lib\\site-packages (from transformers) (0.5.3)\n",
      "Requirement already satisfied: tqdm>=4.27 in c:\\users\\gunnala varshitha\\anaconda3\\lib\\site-packages (from transformers) (4.66.5)\n",
      "Requirement already satisfied: typing-extensions>=4.10.0 in c:\\users\\gunnala varshitha\\anaconda3\\lib\\site-packages (from torch) (4.11.0)\n",
      "Requirement already satisfied: networkx in c:\\users\\gunnala varshitha\\anaconda3\\lib\\site-packages (from torch) (3.3)\n",
      "Requirement already satisfied: jinja2 in c:\\users\\gunnala varshitha\\anaconda3\\lib\\site-packages (from torch) (3.1.4)\n",
      "Requirement already satisfied: fsspec in c:\\users\\gunnala varshitha\\anaconda3\\lib\\site-packages (from torch) (2024.6.1)\n",
      "Requirement already satisfied: setuptools in c:\\users\\gunnala varshitha\\anaconda3\\lib\\site-packages (from torch) (75.1.0)\n",
      "Collecting sympy==1.13.1 (from torch)\n",
      "  Using cached sympy-1.13.1-py3-none-any.whl.metadata (12 kB)\n",
      "Requirement already satisfied: mpmath<1.4,>=1.1.0 in c:\\users\\gunnala varshitha\\anaconda3\\lib\\site-packages (from sympy==1.13.1->torch) (1.3.0)\n",
      "Requirement already satisfied: colorama in c:\\users\\gunnala varshitha\\anaconda3\\lib\\site-packages (from tqdm>=4.27->transformers) (0.4.6)\n",
      "Requirement already satisfied: MarkupSafe>=2.0 in c:\\users\\gunnala varshitha\\anaconda3\\lib\\site-packages (from jinja2->torch) (2.1.3)\n",
      "Requirement already satisfied: charset-normalizer<4,>=2 in c:\\users\\gunnala varshitha\\anaconda3\\lib\\site-packages (from requests->transformers) (3.3.2)\n",
      "Requirement already satisfied: idna<4,>=2.5 in c:\\users\\gunnala varshitha\\anaconda3\\lib\\site-packages (from requests->transformers) (3.7)\n",
      "Requirement already satisfied: urllib3<3,>=1.21.1 in c:\\users\\gunnala varshitha\\anaconda3\\lib\\site-packages (from requests->transformers) (2.2.3)\n",
      "Requirement already satisfied: certifi>=2017.4.17 in c:\\users\\gunnala varshitha\\anaconda3\\lib\\site-packages (from requests->transformers) (2024.8.30)\n",
      "Using cached torch-2.6.0-cp312-cp312-win_amd64.whl (204.1 MB)\n",
      "Downloading sympy-1.13.1-py3-none-any.whl (6.2 MB)\n",
      "   ---------------------------------------- 0.0/6.2 MB ? eta -:--:--\n",
      "   ---------------------------------------- 0.0/6.2 MB ? eta -:--:--\n",
      "   - -------------------------------------- 0.3/6.2 MB ? eta -:--:--\n",
      "   --- ------------------------------------ 0.5/6.2 MB 728.2 kB/s eta 0:00:08\n",
      "   --- ------------------------------------ 0.5/6.2 MB 728.2 kB/s eta 0:00:08\n",
      "   --- ------------------------------------ 0.5/6.2 MB 728.2 kB/s eta 0:00:08\n",
      "   --- ------------------------------------ 0.5/6.2 MB 728.2 kB/s eta 0:00:08\n",
      "   ------ --------------------------------- 1.0/6.2 MB 718.9 kB/s eta 0:00:08\n",
      "   ------ --------------------------------- 1.0/6.2 MB 718.9 kB/s eta 0:00:08\n",
      "   -------- ------------------------------- 1.3/6.2 MB 664.1 kB/s eta 0:00:08\n",
      "   ---------- ----------------------------- 1.6/6.2 MB 769.2 kB/s eta 0:00:07\n",
      "   ---------- ----------------------------- 1.6/6.2 MB 769.2 kB/s eta 0:00:07\n",
      "   ----------- ---------------------------- 1.8/6.2 MB 708.8 kB/s eta 0:00:07\n",
      "   ----------- ---------------------------- 1.8/6.2 MB 708.8 kB/s eta 0:00:07\n",
      "   ----------- ---------------------------- 1.8/6.2 MB 708.8 kB/s eta 0:00:07\n",
      "   ------------- -------------------------- 2.1/6.2 MB 645.2 kB/s eta 0:00:07\n",
      "   --------------- ------------------------ 2.4/6.2 MB 667.7 kB/s eta 0:00:06\n",
      "   ---------------- ----------------------- 2.6/6.2 MB 708.7 kB/s eta 0:00:06\n",
      "   ------------------ --------------------- 2.9/6.2 MB 752.2 kB/s eta 0:00:05\n",
      "   ---------------------- ----------------- 3.4/6.2 MB 825.0 kB/s eta 0:00:04\n",
      "   ----------------------- ---------------- 3.7/6.2 MB 852.0 kB/s eta 0:00:03\n",
      "   ------------------------- -------------- 3.9/6.2 MB 873.0 kB/s eta 0:00:03\n",
      "   --------------------------- ------------ 4.2/6.2 MB 898.8 kB/s eta 0:00:03\n",
      "   ---------------------------- ----------- 4.5/6.2 MB 916.0 kB/s eta 0:00:02\n",
      "   ------------------------------ --------- 4.7/6.2 MB 917.0 kB/s eta 0:00:02\n",
      "   ------------------------------ --------- 4.7/6.2 MB 917.0 kB/s eta 0:00:02\n",
      "   -------------------------------- ------- 5.0/6.2 MB 923.4 kB/s eta 0:00:02\n",
      "   -------------------------------- ------- 5.0/6.2 MB 923.4 kB/s eta 0:00:02\n",
      "   --------------------------------- ------ 5.2/6.2 MB 885.5 kB/s eta 0:00:02\n",
      "   ----------------------------------- ---- 5.5/6.2 MB 906.8 kB/s eta 0:00:01\n",
      "   ------------------------------------- -- 5.8/6.2 MB 912.6 kB/s eta 0:00:01\n",
      "   -------------------------------------- - 6.0/6.2 MB 927.3 kB/s eta 0:00:01\n",
      "   ---------------------------------------- 6.2/6.2 MB 916.2 kB/s eta 0:00:00\n",
      "Installing collected packages: sympy, torch\n",
      "  Attempting uninstall: sympy\n",
      "    Found existing installation: sympy 1.13.2\n",
      "    Uninstalling sympy-1.13.2:\n",
      "      Successfully uninstalled sympy-1.13.2\n",
      "Successfully installed sympy-1.13.1 torch-2.6.0\n"
     ]
    }
   ],
   "source": [
    "!pip install transformers torch"
   ]
  },
  {
   "cell_type": "code",
   "execution_count": 2,
   "id": "5e025eb9-2896-438e-a97c-04aa0daebb96",
   "metadata": {},
   "outputs": [
    {
     "data": {
      "application/vnd.jupyter.widget-view+json": {
       "model_id": "944b7a4906794950aa70ada09647a758",
       "version_major": 2,
       "version_minor": 0
      },
      "text/plain": [
       "tokenizer_config.json:   0%|          | 0.00/152 [00:00<?, ?B/s]"
      ]
     },
     "metadata": {},
     "output_type": "display_data"
    },
    {
     "name": "stderr",
     "output_type": "stream",
     "text": [
      "C:\\Users\\GUNNALA VARSHITHA\\anaconda3\\Lib\\site-packages\\huggingface_hub\\file_download.py:142: UserWarning: `huggingface_hub` cache-system uses symlinks by default to efficiently store duplicated files but your machine does not support them in C:\\Users\\GUNNALA VARSHITHA\\.cache\\huggingface\\hub\\models--deepset--bert-base-cased-squad2. Caching files will still work but in a degraded version that might require more space on your disk. This warning can be disabled by setting the `HF_HUB_DISABLE_SYMLINKS_WARNING` environment variable. For more details, see https://huggingface.co/docs/huggingface_hub/how-to-cache#limitations.\n",
      "To support symlinks on Windows, you either need to activate Developer Mode or to run Python as an administrator. In order to activate developer mode, see this article: https://docs.microsoft.com/en-us/windows/apps/get-started/enable-your-device-for-development\n",
      "  warnings.warn(message)\n"
     ]
    },
    {
     "data": {
      "application/vnd.jupyter.widget-view+json": {
       "model_id": "27b070241af64f98adbb71066840b57e",
       "version_major": 2,
       "version_minor": 0
      },
      "text/plain": [
       "vocab.txt:   0%|          | 0.00/213k [00:00<?, ?B/s]"
      ]
     },
     "metadata": {},
     "output_type": "display_data"
    },
    {
     "data": {
      "application/vnd.jupyter.widget-view+json": {
       "model_id": "30c9c067a3604d909d8958dd94f84882",
       "version_major": 2,
       "version_minor": 0
      },
      "text/plain": [
       "special_tokens_map.json:   0%|          | 0.00/112 [00:00<?, ?B/s]"
      ]
     },
     "metadata": {},
     "output_type": "display_data"
    },
    {
     "data": {
      "application/vnd.jupyter.widget-view+json": {
       "model_id": "35bfadbb668b4fbcb13eb9d1445d4b6f",
       "version_major": 2,
       "version_minor": 0
      },
      "text/plain": [
       "config.json:   0%|          | 0.00/508 [00:00<?, ?B/s]"
      ]
     },
     "metadata": {},
     "output_type": "display_data"
    },
    {
     "data": {
      "application/vnd.jupyter.widget-view+json": {
       "model_id": "3da1e810e65a425d9dd4659456827e45",
       "version_major": 2,
       "version_minor": 0
      },
      "text/plain": [
       "model.safetensors:   0%|          | 0.00/433M [00:00<?, ?B/s]"
      ]
     },
     "metadata": {},
     "output_type": "display_data"
    },
    {
     "name": "stderr",
     "output_type": "stream",
     "text": [
      "Some weights of the model checkpoint at deepset/bert-base-cased-squad2 were not used when initializing BertForQuestionAnswering: ['bert.pooler.dense.bias', 'bert.pooler.dense.weight']\n",
      "- This IS expected if you are initializing BertForQuestionAnswering from the checkpoint of a model trained on another task or with another architecture (e.g. initializing a BertForSequenceClassification model from a BertForPreTraining model).\n",
      "- This IS NOT expected if you are initializing BertForQuestionAnswering from the checkpoint of a model that you expect to be exactly identical (initializing a BertForSequenceClassification model from a BertForSequenceClassification model).\n"
     ]
    }
   ],
   "source": [
    "from transformers import BertForQuestionAnswering, BertTokenizer\n",
    "import torch\n",
    "model_name = \"deepset/bert-base-cased-squad2\"  \n",
    "tokenizer = BertTokenizer.from_pretrained(model_name)\n",
    "model = BertForQuestionAnswering.from_pretrained(model_name)"
   ]
  },
  {
   "cell_type": "code",
   "execution_count": 3,
   "id": "cc04423d-4daf-4a91-9194-5c5d33098473",
   "metadata": {},
   "outputs": [],
   "source": [
    "context = \"\"\"The Eiffel Tower is a wrought-iron lattice tower on the Champ de Mars in Paris, France. \n",
    "It is named after the engineer Gustave Eiffel, whose company designed and built the tower.\"\"\"\n",
    "question = \"Who designed the Eiffel Tower?\"\n",
    "inputs = tokenizer(question, context, return_tensors=\"pt\")\n",
    "with torch.no_grad():\n",
    "    outputs = model(**inputs)\n",
    "    start_scores = outputs.start_logits\n",
    "    end_scores = outputs.end_logits"
   ]
  },
  {
   "cell_type": "code",
   "execution_count": 5,
   "id": "bdb8a9bf-6887-4eb1-b280-e2630c2a09a6",
   "metadata": {},
   "outputs": [
    {
     "name": "stdout",
     "output_type": "stream",
     "text": [
      "Answer: Gustave Eiffel\n"
     ]
    }
   ],
   "source": [
    "start_idx = torch.argmax(start_scores)\n",
    "end_idx = torch.argmax(end_scores) + 1\n",
    "answer = tokenizer.convert_tokens_to_string(tokenizer.convert_ids_to_tokens(inputs[\"input_ids\"][0][start_idx:end_idx]))\n",
    "print(f\"Answer: {answer}\")"
   ]
  },
  {
   "cell_type": "code",
   "execution_count": null,
   "id": "76efad15-424a-4a16-a1e7-74631af354f8",
   "metadata": {},
   "outputs": [],
   "source": []
  }
 ],
 "metadata": {
  "kernelspec": {
   "display_name": "Python 3 (ipykernel)",
   "language": "python",
   "name": "python3"
  },
  "language_info": {
   "codemirror_mode": {
    "name": "ipython",
    "version": 3
   },
   "file_extension": ".py",
   "mimetype": "text/x-python",
   "name": "python",
   "nbconvert_exporter": "python",
   "pygments_lexer": "ipython3",
   "version": "3.12.7"
  }
 },
 "nbformat": 4,
 "nbformat_minor": 5
}
