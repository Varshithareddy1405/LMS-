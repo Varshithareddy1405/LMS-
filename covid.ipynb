{
 "cells": [
  {
   "cell_type": "code",
   "execution_count": 20,
   "id": "8c2b1cb0-7b9e-4f6a-8f9b-c8db44379d7c",
   "metadata": {},
   "outputs": [],
   "source": [
    "\n",
    "from nltk.stem.porter import PorterStemmer\n",
    "from sklearn.feature_extraction.text import TfidfVectorizer\n",
    "from sklearn.model_selection import train_test_split\n",
    "import pickle\n",
    "from sklearn.linear_model import LogisticRegressionCV\n",
    "import re\n",
    "import pandas as pd\n",
    "import warnings\n",
    "warnings.filterwarnings(\"ignore\")\n",
    "\n"
   ]
  },
  {
   "cell_type": "code",
   "execution_count": 21,
   "id": "a93f71f9-f65a-4418-b8ea-6c0efd5e8478",
   "metadata": {},
   "outputs": [],
   "source": [
    "df=pd.read_csv('covid_fake.csv')\n",
    "\n"
   ]
  },
  {
   "cell_type": "code",
   "execution_count": 22,
   "id": "cecc529d-6212-4c46-8daf-1e743aa36b29",
   "metadata": {},
   "outputs": [
    {
     "data": {
      "text/html": [
       "<div>\n",
       "<style scoped>\n",
       "    .dataframe tbody tr th:only-of-type {\n",
       "        vertical-align: middle;\n",
       "    }\n",
       "\n",
       "    .dataframe tbody tr th {\n",
       "        vertical-align: top;\n",
       "    }\n",
       "\n",
       "    .dataframe thead th {\n",
       "        text-align: right;\n",
       "    }\n",
       "</style>\n",
       "<table border=\"1\" class=\"dataframe\">\n",
       "  <thead>\n",
       "    <tr style=\"text-align: right;\">\n",
       "      <th></th>\n",
       "      <th>title</th>\n",
       "      <th>text</th>\n",
       "      <th>source</th>\n",
       "      <th>label</th>\n",
       "    </tr>\n",
       "  </thead>\n",
       "  <tbody>\n",
       "    <tr>\n",
       "      <th>0</th>\n",
       "      <td>Due to the recent outbreak for the Coronavirus...</td>\n",
       "      <td>You just need to add water, and the drugs and ...</td>\n",
       "      <td>coronavirusmedicalkit.com</td>\n",
       "      <td>Fake</td>\n",
       "    </tr>\n",
       "    <tr>\n",
       "      <th>1</th>\n",
       "      <td>NaN</td>\n",
       "      <td>Hydroxychloroquine has been shown to have a 10...</td>\n",
       "      <td>RudyGiuliani</td>\n",
       "      <td>Fake</td>\n",
       "    </tr>\n",
       "    <tr>\n",
       "      <th>2</th>\n",
       "      <td>NaN</td>\n",
       "      <td>Fact: Hydroxychloroquine has been shown to hav...</td>\n",
       "      <td>CharlieKirk</td>\n",
       "      <td>Fake</td>\n",
       "    </tr>\n",
       "    <tr>\n",
       "      <th>3</th>\n",
       "      <td>NaN</td>\n",
       "      <td>The Corona virus is a man made virus created i...</td>\n",
       "      <td>JoanneWrightForCongress</td>\n",
       "      <td>Fake</td>\n",
       "    </tr>\n",
       "    <tr>\n",
       "      <th>4</th>\n",
       "      <td>NaN</td>\n",
       "      <td>Doesn’t @BillGates finance research at the Wuh...</td>\n",
       "      <td>JoanneWrightForCongress</td>\n",
       "      <td>Fake</td>\n",
       "    </tr>\n",
       "    <tr>\n",
       "      <th>5</th>\n",
       "      <td>CORONA UNMASKED: Chinese Intelligence Officer ...</td>\n",
       "      <td>NaN</td>\n",
       "      <td>NaN</td>\n",
       "      <td>NaN</td>\n",
       "    </tr>\n",
       "    <tr>\n",
       "      <th>6</th>\n",
       "      <td>NaN</td>\n",
       "      <td>Urgent: Health Bulletin to the Public. Ministr...</td>\n",
       "      <td>Ministry of Health</td>\n",
       "      <td>Fake</td>\n",
       "    </tr>\n",
       "    <tr>\n",
       "      <th>7</th>\n",
       "      <td>NaN</td>\n",
       "      <td>Pls tell ur families, relatives and friendsMOH...</td>\n",
       "      <td>NWLLAB</td>\n",
       "      <td>Fake</td>\n",
       "    </tr>\n",
       "    <tr>\n",
       "      <th>8</th>\n",
       "      <td>NaN</td>\n",
       "      <td>SERIOUS EXCELLENT ADVICE by Japanese doctors t...</td>\n",
       "      <td>Japanese doctors treating COVID-19 cases</td>\n",
       "      <td>Fake</td>\n",
       "    </tr>\n",
       "    <tr>\n",
       "      <th>9</th>\n",
       "      <td>Basic protective measures against the new coro...</td>\n",
       "      <td>Stay aware of the latest information on the CO...</td>\n",
       "      <td>https://www.who.int/emergencies/diseases/novel...</td>\n",
       "      <td>TRUE</td>\n",
       "    </tr>\n",
       "  </tbody>\n",
       "</table>\n",
       "</div>"
      ],
      "text/plain": [
       "                                               title  \\\n",
       "0  Due to the recent outbreak for the Coronavirus...   \n",
       "1                                                NaN   \n",
       "2                                                NaN   \n",
       "3                                                NaN   \n",
       "4                                                NaN   \n",
       "5  CORONA UNMASKED: Chinese Intelligence Officer ...   \n",
       "6                                                NaN   \n",
       "7                                                NaN   \n",
       "8                                                NaN   \n",
       "9  Basic protective measures against the new coro...   \n",
       "\n",
       "                                                text  \\\n",
       "0  You just need to add water, and the drugs and ...   \n",
       "1  Hydroxychloroquine has been shown to have a 10...   \n",
       "2  Fact: Hydroxychloroquine has been shown to hav...   \n",
       "3  The Corona virus is a man made virus created i...   \n",
       "4  Doesn’t @BillGates finance research at the Wuh...   \n",
       "5                                                NaN   \n",
       "6  Urgent: Health Bulletin to the Public. Ministr...   \n",
       "7  Pls tell ur families, relatives and friendsMOH...   \n",
       "8  SERIOUS EXCELLENT ADVICE by Japanese doctors t...   \n",
       "9  Stay aware of the latest information on the CO...   \n",
       "\n",
       "                                              source label  \n",
       "0                          coronavirusmedicalkit.com  Fake  \n",
       "1                                       RudyGiuliani  Fake  \n",
       "2                                        CharlieKirk  Fake  \n",
       "3                            JoanneWrightForCongress  Fake  \n",
       "4                            JoanneWrightForCongress  Fake  \n",
       "5                                                NaN   NaN  \n",
       "6                                 Ministry of Health  Fake  \n",
       "7                                             NWLLAB  Fake  \n",
       "8           Japanese doctors treating COVID-19 cases  Fake  \n",
       "9  https://www.who.int/emergencies/diseases/novel...  TRUE  "
      ]
     },
     "execution_count": 22,
     "metadata": {},
     "output_type": "execute_result"
    }
   ],
   "source": [
    "df.head(10)\n",
    "\n"
   ]
  },
  {
   "cell_type": "code",
   "execution_count": 23,
   "id": "d5440270-77ef-4dbe-b052-2938c609d90c",
   "metadata": {},
   "outputs": [
    {
     "data": {
      "text/plain": [
       "(1164, 4)"
      ]
     },
     "execution_count": 23,
     "metadata": {},
     "output_type": "execute_result"
    }
   ],
   "source": [
    "df.shape\n"
   ]
  },
  {
   "cell_type": "code",
   "execution_count": 24,
   "id": "28804eba-fafe-490b-a83a-01929632a3a5",
   "metadata": {},
   "outputs": [
    {
     "data": {
      "text/plain": [
       "label\n",
       "TRUE    584\n",
       "Fake    345\n",
       "fake    230\n",
       "Name: count, dtype: int64"
      ]
     },
     "execution_count": 24,
     "metadata": {},
     "output_type": "execute_result"
    }
   ],
   "source": [
    "\n",
    "df['label'].value_counts()\n",
    "\n",
    "\n"
   ]
  },
  {
   "cell_type": "code",
   "execution_count": 25,
   "id": "1bd23722-2a78-41b2-bc40-81fd1d5e9c08",
   "metadata": {},
   "outputs": [
    {
     "data": {
      "text/html": [
       "<div>\n",
       "<style scoped>\n",
       "    .dataframe tbody tr th:only-of-type {\n",
       "        vertical-align: middle;\n",
       "    }\n",
       "\n",
       "    .dataframe tbody tr th {\n",
       "        vertical-align: top;\n",
       "    }\n",
       "\n",
       "    .dataframe thead th {\n",
       "        text-align: right;\n",
       "    }\n",
       "</style>\n",
       "<table border=\"1\" class=\"dataframe\">\n",
       "  <thead>\n",
       "    <tr style=\"text-align: right;\">\n",
       "      <th></th>\n",
       "      <th>title</th>\n",
       "      <th>text</th>\n",
       "      <th>source</th>\n",
       "      <th>label</th>\n",
       "    </tr>\n",
       "  </thead>\n",
       "  <tbody>\n",
       "    <tr>\n",
       "      <th>5</th>\n",
       "      <td>CORONA UNMASKED: Chinese Intelligence Officer ...</td>\n",
       "      <td>NaN</td>\n",
       "      <td>NaN</td>\n",
       "      <td>NaN</td>\n",
       "    </tr>\n",
       "    <tr>\n",
       "      <th>6</th>\n",
       "      <td>NaN</td>\n",
       "      <td>Urgent: Health Bulletin to the Public. Ministr...</td>\n",
       "      <td>Ministry of Health</td>\n",
       "      <td>Fake</td>\n",
       "    </tr>\n",
       "    <tr>\n",
       "      <th>7</th>\n",
       "      <td>NaN</td>\n",
       "      <td>Pls tell ur families, relatives and friendsMOH...</td>\n",
       "      <td>NWLLAB</td>\n",
       "      <td>Fake</td>\n",
       "    </tr>\n",
       "    <tr>\n",
       "      <th>8</th>\n",
       "      <td>NaN</td>\n",
       "      <td>SERIOUS EXCELLENT ADVICE by Japanese doctors t...</td>\n",
       "      <td>Japanese doctors treating COVID-19 cases</td>\n",
       "      <td>Fake</td>\n",
       "    </tr>\n",
       "    <tr>\n",
       "      <th>9</th>\n",
       "      <td>Basic protective measures against the new coro...</td>\n",
       "      <td>Stay aware of the latest information on the CO...</td>\n",
       "      <td>https://www.who.int/emergencies/diseases/novel...</td>\n",
       "      <td>TRUE</td>\n",
       "    </tr>\n",
       "    <tr>\n",
       "      <th>10</th>\n",
       "      <td>NaN</td>\n",
       "      <td>The new Coronavirus may not show signs of infe...</td>\n",
       "      <td>Taiwan Experts</td>\n",
       "      <td>Fake</td>\n",
       "    </tr>\n",
       "    <tr>\n",
       "      <th>11</th>\n",
       "      <td>NaN</td>\n",
       "      <td>A vaccine meant for cattle can be used to figh...</td>\n",
       "      <td>facebook</td>\n",
       "      <td>Fake</td>\n",
       "    </tr>\n",
       "    <tr>\n",
       "      <th>12</th>\n",
       "      <td>NaN</td>\n",
       "      <td>Using a hair dryer to breathe in hot air can c...</td>\n",
       "      <td>Youtube</td>\n",
       "      <td>Fake</td>\n",
       "    </tr>\n",
       "    <tr>\n",
       "      <th>13</th>\n",
       "      <td>NaN</td>\n",
       "      <td>Corona virus before it reaches the lungs it re...</td>\n",
       "      <td>twitter</td>\n",
       "      <td>Fake</td>\n",
       "    </tr>\n",
       "    <tr>\n",
       "      <th>14</th>\n",
       "      <td>Exposing yourself to the sun or to temperature...</td>\n",
       "      <td>You can catch COVID-19, no matter how sunny or...</td>\n",
       "      <td>https://www.who.int/emergencies/diseases/novel...</td>\n",
       "      <td>TRUE</td>\n",
       "    </tr>\n",
       "    <tr>\n",
       "      <th>15</th>\n",
       "      <td>You can recover from the coronavirus disease (...</td>\n",
       "      <td>Most of the people who catch COVID-19 can reco...</td>\n",
       "      <td>https://www.who.int/emergencies/diseases/novel...</td>\n",
       "      <td>NaN</td>\n",
       "    </tr>\n",
       "  </tbody>\n",
       "</table>\n",
       "</div>"
      ],
      "text/plain": [
       "                                                title  \\\n",
       "5   CORONA UNMASKED: Chinese Intelligence Officer ...   \n",
       "6                                                 NaN   \n",
       "7                                                 NaN   \n",
       "8                                                 NaN   \n",
       "9   Basic protective measures against the new coro...   \n",
       "10                                                NaN   \n",
       "11                                                NaN   \n",
       "12                                                NaN   \n",
       "13                                                NaN   \n",
       "14  Exposing yourself to the sun or to temperature...   \n",
       "15  You can recover from the coronavirus disease (...   \n",
       "\n",
       "                                                 text  \\\n",
       "5                                                 NaN   \n",
       "6   Urgent: Health Bulletin to the Public. Ministr...   \n",
       "7   Pls tell ur families, relatives and friendsMOH...   \n",
       "8   SERIOUS EXCELLENT ADVICE by Japanese doctors t...   \n",
       "9   Stay aware of the latest information on the CO...   \n",
       "10  The new Coronavirus may not show signs of infe...   \n",
       "11  A vaccine meant for cattle can be used to figh...   \n",
       "12  Using a hair dryer to breathe in hot air can c...   \n",
       "13  Corona virus before it reaches the lungs it re...   \n",
       "14  You can catch COVID-19, no matter how sunny or...   \n",
       "15  Most of the people who catch COVID-19 can reco...   \n",
       "\n",
       "                                               source label  \n",
       "5                                                 NaN   NaN  \n",
       "6                                  Ministry of Health  Fake  \n",
       "7                                              NWLLAB  Fake  \n",
       "8            Japanese doctors treating COVID-19 cases  Fake  \n",
       "9   https://www.who.int/emergencies/diseases/novel...  TRUE  \n",
       "10                                     Taiwan Experts  Fake  \n",
       "11                                           facebook  Fake  \n",
       "12                                            Youtube  Fake  \n",
       "13                                            twitter  Fake  \n",
       "14  https://www.who.int/emergencies/diseases/novel...  TRUE  \n",
       "15  https://www.who.int/emergencies/diseases/novel...   NaN  "
      ]
     },
     "execution_count": 25,
     "metadata": {},
     "output_type": "execute_result"
    }
   ],
   "source": [
    "df.loc[5:15]"
   ]
  },
  {
   "cell_type": "code",
   "execution_count": 26,
   "id": "c89106a6-8aff-4cad-b148-63429641a3d8",
   "metadata": {},
   "outputs": [],
   "source": [
    "df.loc[df['label']=='Fake',['label']]='FAKE'\n",
    "df.loc[df['label']=='fake',['label']]='FAKE'\n",
    "df.loc[df['source']=='facebook',['source']]='Facebook'\n",
    "df.text.fillna(df.title,inplace=True)\n",
    "df.loc[5]['label']='Fake'\n",
    "df.loc[15]['label']='True'\n",
    "df.loc[43]['label']='Fake'\n",
    "df.loc[131]['label']='True'\n",
    "df.loc[242]['label']='Fake'\n",
    "\n",
    "df.title.fillna('missing',inplace=True)\n",
    "df.source.fillna('missing',inplace=True)\n",
    "df['title_text']=df['title']+''+df['text']"
   ]
  },
  {
   "cell_type": "code",
   "execution_count": 27,
   "id": "ddcb55ef-78e7-4fd6-bef1-b8b7e64c1216",
   "metadata": {},
   "outputs": [
    {
     "data": {
      "text/plain": [
       "title         0\n",
       "text          0\n",
       "source        0\n",
       "label         0\n",
       "title_text    0\n",
       "dtype: int64"
      ]
     },
     "execution_count": 27,
     "metadata": {},
     "output_type": "execute_result"
    }
   ],
   "source": [
    "df.isna().sum()"
   ]
  },
  {
   "cell_type": "code",
   "execution_count": 28,
   "id": "8c978424-6ff7-41af-9c6a-2220132ec879",
   "metadata": {},
   "outputs": [
    {
     "data": {
      "text/plain": [
       "label\n",
       "TRUE    584\n",
       "FAKE    575\n",
       "Fake      3\n",
       "True      2\n",
       "Name: count, dtype: int64"
      ]
     },
     "execution_count": 28,
     "metadata": {},
     "output_type": "execute_result"
    }
   ],
   "source": [
    "df['label'].value_counts()"
   ]
  },
  {
   "cell_type": "code",
   "execution_count": 29,
   "id": "afa5f56b-95a0-4307-9424-22d1818ba2e1",
   "metadata": {},
   "outputs": [
    {
     "data": {
      "text/html": [
       "<div>\n",
       "<style scoped>\n",
       "    .dataframe tbody tr th:only-of-type {\n",
       "        vertical-align: middle;\n",
       "    }\n",
       "\n",
       "    .dataframe tbody tr th {\n",
       "        vertical-align: top;\n",
       "    }\n",
       "\n",
       "    .dataframe thead th {\n",
       "        text-align: right;\n",
       "    }\n",
       "</style>\n",
       "<table border=\"1\" class=\"dataframe\">\n",
       "  <thead>\n",
       "    <tr style=\"text-align: right;\">\n",
       "      <th></th>\n",
       "      <th>title</th>\n",
       "      <th>text</th>\n",
       "      <th>source</th>\n",
       "      <th>label</th>\n",
       "      <th>title_text</th>\n",
       "    </tr>\n",
       "  </thead>\n",
       "  <tbody>\n",
       "    <tr>\n",
       "      <th>0</th>\n",
       "      <td>Due to the recent outbreak for the Coronavirus...</td>\n",
       "      <td>You just need to add water, and the drugs and ...</td>\n",
       "      <td>coronavirusmedicalkit.com</td>\n",
       "      <td>FAKE</td>\n",
       "      <td>Due to the recent outbreak for the Coronavirus...</td>\n",
       "    </tr>\n",
       "    <tr>\n",
       "      <th>1</th>\n",
       "      <td>missing</td>\n",
       "      <td>Hydroxychloroquine has been shown to have a 10...</td>\n",
       "      <td>RudyGiuliani</td>\n",
       "      <td>FAKE</td>\n",
       "      <td>missingHydroxychloroquine has been shown to ha...</td>\n",
       "    </tr>\n",
       "    <tr>\n",
       "      <th>2</th>\n",
       "      <td>missing</td>\n",
       "      <td>Fact: Hydroxychloroquine has been shown to hav...</td>\n",
       "      <td>CharlieKirk</td>\n",
       "      <td>FAKE</td>\n",
       "      <td>missingFact: Hydroxychloroquine has been shown...</td>\n",
       "    </tr>\n",
       "    <tr>\n",
       "      <th>3</th>\n",
       "      <td>missing</td>\n",
       "      <td>The Corona virus is a man made virus created i...</td>\n",
       "      <td>JoanneWrightForCongress</td>\n",
       "      <td>FAKE</td>\n",
       "      <td>missingThe Corona virus is a man made virus cr...</td>\n",
       "    </tr>\n",
       "    <tr>\n",
       "      <th>4</th>\n",
       "      <td>missing</td>\n",
       "      <td>Doesn’t @BillGates finance research at the Wuh...</td>\n",
       "      <td>JoanneWrightForCongress</td>\n",
       "      <td>FAKE</td>\n",
       "      <td>missingDoesn’t @BillGates finance research at ...</td>\n",
       "    </tr>\n",
       "  </tbody>\n",
       "</table>\n",
       "</div>"
      ],
      "text/plain": [
       "                                               title  \\\n",
       "0  Due to the recent outbreak for the Coronavirus...   \n",
       "1                                            missing   \n",
       "2                                            missing   \n",
       "3                                            missing   \n",
       "4                                            missing   \n",
       "\n",
       "                                                text  \\\n",
       "0  You just need to add water, and the drugs and ...   \n",
       "1  Hydroxychloroquine has been shown to have a 10...   \n",
       "2  Fact: Hydroxychloroquine has been shown to hav...   \n",
       "3  The Corona virus is a man made virus created i...   \n",
       "4  Doesn’t @BillGates finance research at the Wuh...   \n",
       "\n",
       "                      source label  \\\n",
       "0  coronavirusmedicalkit.com  FAKE   \n",
       "1               RudyGiuliani  FAKE   \n",
       "2                CharlieKirk  FAKE   \n",
       "3    JoanneWrightForCongress  FAKE   \n",
       "4    JoanneWrightForCongress  FAKE   \n",
       "\n",
       "                                          title_text  \n",
       "0  Due to the recent outbreak for the Coronavirus...  \n",
       "1  missingHydroxychloroquine has been shown to ha...  \n",
       "2  missingFact: Hydroxychloroquine has been shown...  \n",
       "3  missingThe Corona virus is a man made virus cr...  \n",
       "4  missingDoesn’t @BillGates finance research at ...  "
      ]
     },
     "execution_count": 29,
     "metadata": {},
     "output_type": "execute_result"
    }
   ],
   "source": [
    "df.head()"
   ]
  },
  {
   "cell_type": "code",
   "execution_count": 30,
   "id": "35f56469-fd33-44c9-9962-a5d44dd5c2fc",
   "metadata": {},
   "outputs": [
    {
     "data": {
      "text/plain": [
       "(1164, 5)"
      ]
     },
     "execution_count": 30,
     "metadata": {},
     "output_type": "execute_result"
    }
   ],
   "source": [
    "df.shape"
   ]
  },
  {
   "cell_type": "code",
   "execution_count": 31,
   "id": "b06f37bf-6a1e-40a1-bdbc-9f82e3030dac",
   "metadata": {},
   "outputs": [
    {
     "data": {
      "text/plain": [
       "'missingThe Corona virus is a man made virus created in a Wuhan laboratory. Ask @BillGates who financed it.'"
      ]
     },
     "execution_count": 31,
     "metadata": {},
     "output_type": "execute_result"
    }
   ],
   "source": [
    "df['title_text'][3]"
   ]
  },
  {
   "cell_type": "code",
   "execution_count": 32,
   "id": "58cc7a39-7e1b-4459-b809-a959631ec361",
   "metadata": {},
   "outputs": [
    {
     "data": {
      "text/plain": [
       "'missingthe corona virus is a man made virus created in a wuhan laboratory ask billgates who financed it'"
      ]
     },
     "execution_count": 32,
     "metadata": {},
     "output_type": "execute_result"
    }
   ],
   "source": [
    "def preprocessor(text):\n",
    "  text=re.sub('<[^>]*>','',text)\n",
    "  text = re.sub(r'[^\\w\\s]','', text)\n",
    "  text = re.sub(r'[\\n]', '', text)\n",
    "  text = text.lower()\n",
    "  return text\n",
    "df['title_text'] = df['title_text'].apply(preprocessor)\n",
    "df['title_text'][3]"
   ]
  },
  {
   "cell_type": "code",
   "execution_count": 33,
   "id": "19d5d716-c112-4dd2-a77b-06e310decb87",
   "metadata": {},
   "outputs": [],
   "source": [
    "porter=PorterStemmer()\n",
    "def tokenizer_porter(text):\n",
    "    return [porter.stem(word)for word in text.split()]"
   ]
  },
  {
   "cell_type": "code",
   "execution_count": 34,
   "id": "024b1a8e-e2a8-4183-b25c-7b8c16deed0a",
   "metadata": {},
   "outputs": [],
   "source": [
    "tfidf=TfidfVectorizer(strip_accents=None,\n",
    "                    lowercase=False,\n",
    "                    preprocessor=None,\n",
    "                    tokenizer=tokenizer_porter,\n",
    "                    use_idf=True,\n",
    "                    smooth_idf=True)\n",
    "X=tfidf.fit_transform(df['title_text'])\n",
    "y=df.label.values"
   ]
  },
  {
   "cell_type": "code",
   "execution_count": 35,
   "id": "eeca2ff2-8f4f-44c1-963f-75542e960a7a",
   "metadata": {},
   "outputs": [
    {
     "data": {
      "text/plain": [
       "(1164, 27699)"
      ]
     },
     "execution_count": 35,
     "metadata": {},
     "output_type": "execute_result"
    }
   ],
   "source": [
    "X.shape"
   ]
  },
  {
   "cell_type": "code",
   "execution_count": 37,
   "id": "7c5f82c9-c275-41eb-9634-bd2a253fc80e",
   "metadata": {},
   "outputs": [],
   "source": [
    "X_train,X_test,y_train,y_test=train_test_split(X,y,random_state=0,\\\n",
    "                                               test_size=0.3,shuffle=False)"
   ]
  },
  {
   "cell_type": "code",
   "execution_count": 38,
   "id": "1b8df2f3-5454-4337-ad3c-e582f02abc69",
   "metadata": {},
   "outputs": [],
   "source": [
    "clf=LogisticRegressionCV(cv=5,scoring='accuracy',random_state=0,n_jobs=-1,verbose=0,max_iter=300)\n",
    "clf.fit(X_train,y_train)\n",
    "fake_news_model=open('fake_news_model.sav','wb')\n",
    "pickle.dump(clf,fake_news_model)\n",
    "fake_news_model.close()"
   ]
  },
  {
   "cell_type": "code",
   "execution_count": 39,
   "id": "d8e439cd-603c-4a4a-9abf-0e1d0efe0f16",
   "metadata": {},
   "outputs": [
    {
     "data": {
      "text/plain": [
       "0.9314285714285714"
      ]
     },
     "execution_count": 39,
     "metadata": {},
     "output_type": "execute_result"
    }
   ],
   "source": [
    "filename='fake_news_model.sav'\n",
    "saved_clf=pickle.load(open(filename,'rb'))\n",
    "saved_clf.score(X_test,y_test)"
   ]
  },
  {
   "cell_type": "code",
   "execution_count": 40,
   "id": "0d4737a1-68cd-4c6d-8315-d25909ec8d9a",
   "metadata": {},
   "outputs": [
    {
     "name": "stdout",
     "output_type": "stream",
     "text": [
      "---Test Set Results---\n",
      "              precision    recall  f1-score   support\n",
      "\n",
      "        FAKE       0.91      0.92      0.91       132\n",
      "        TRUE       0.95      0.94      0.94       218\n",
      "        True       0.00      0.00      0.00         0\n",
      "\n",
      "    accuracy                           0.93       350\n",
      "   macro avg       0.62      0.62      0.62       350\n",
      "weighted avg       0.93      0.93      0.93       350\n",
      "\n"
     ]
    }
   ],
   "source": [
    "from sklearn.metrics import classification_report,accuracy_score\n",
    "y_pred=clf.predict(X_test)\n",
    "print(\"---Test Set Results---\")\n",
    "print(classification_report(y_test,y_pred))"
   ]
  },
  {
   "cell_type": "code",
   "execution_count": 41,
   "id": "001d84a7-f040-4984-ba9b-47e1cd8b0415",
   "metadata": {},
   "outputs": [
    {
     "data": {
      "text/plain": [
       "array(['FAKE'], dtype=object)"
      ]
     },
     "execution_count": 41,
     "metadata": {},
     "output_type": "execute_result"
    }
   ],
   "source": [
    "clf.predict(X_test[59])"
   ]
  },
  {
   "cell_type": "code",
   "execution_count": 42,
   "id": "0a8dc5ab-18a2-4448-99d6-e69b256cfe99",
   "metadata": {},
   "outputs": [
    {
     "name": "stdout",
     "output_type": "stream",
     "text": [
      "['FAKE']\n"
     ]
    }
   ],
   "source": [
    "test=\"Corona virus before it reaches the lungs\"\n",
    "inp=[test]\n",
    "vect=tfidf.transform(inp)\n",
    "prediction=clf.predict(vect)\n",
    "print(prediction)"
   ]
  },
  {
   "cell_type": "code",
   "execution_count": null,
   "id": "7a56bf85-0d30-4cf7-bbaf-f4486414f7ee",
   "metadata": {},
   "outputs": [],
   "source": []
  }
 ],
 "metadata": {
  "kernelspec": {
   "display_name": "Python 3 (ipykernel)",
   "language": "python",
   "name": "python3"
  },
  "language_info": {
   "codemirror_mode": {
    "name": "ipython",
    "version": 3
   },
   "file_extension": ".py",
   "mimetype": "text/x-python",
   "name": "python",
   "nbconvert_exporter": "python",
   "pygments_lexer": "ipython3",
   "version": "3.12.7"
  }
 },
 "nbformat": 4,
 "nbformat_minor": 5
}
