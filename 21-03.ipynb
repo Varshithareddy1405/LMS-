{
 "cells": [
  {
   "cell_type": "code",
   "execution_count": 4,
   "id": "7a6dbb5b-4c74-4dfe-8585-203a0fbbf475",
   "metadata": {},
   "outputs": [
    {
     "name": "stdout",
     "output_type": "stream",
     "text": [
      "Requirement already satisfied: boto3 in c:\\users\\gunnala varshitha\\anaconda3\\lib\\site-packages (1.37.17)\n",
      "Requirement already satisfied: botocore<1.38.0,>=1.37.17 in c:\\users\\gunnala varshitha\\anaconda3\\lib\\site-packages (from boto3) (1.37.17)\n",
      "Requirement already satisfied: jmespath<2.0.0,>=0.7.1 in c:\\users\\gunnala varshitha\\anaconda3\\lib\\site-packages (from boto3) (1.0.1)\n",
      "Requirement already satisfied: s3transfer<0.12.0,>=0.11.0 in c:\\users\\gunnala varshitha\\anaconda3\\lib\\site-packages (from boto3) (0.11.4)\n",
      "Requirement already satisfied: python-dateutil<3.0.0,>=2.1 in c:\\users\\gunnala varshitha\\anaconda3\\lib\\site-packages (from botocore<1.38.0,>=1.37.17->boto3) (2.9.0.post0)\n",
      "Requirement already satisfied: urllib3!=2.2.0,<3,>=1.25.4 in c:\\users\\gunnala varshitha\\anaconda3\\lib\\site-packages (from botocore<1.38.0,>=1.37.17->boto3) (2.2.3)\n",
      "Requirement already satisfied: six>=1.5 in c:\\users\\gunnala varshitha\\anaconda3\\lib\\site-packages (from python-dateutil<3.0.0,>=2.1->botocore<1.38.0,>=1.37.17->boto3) (1.16.0)\n"
     ]
    }
   ],
   "source": [
    "!pip install boto3"
   ]
  },
  {
   "cell_type": "code",
   "execution_count": 6,
   "id": "f62fdbab-d927-4749-b898-bfd38b06422a",
   "metadata": {},
   "outputs": [
    {
     "name": "stdout",
     "output_type": "stream",
     "text": [
      "Collecting awscli\n",
      "  Downloading awscli-1.38.17-py3-none-any.whl.metadata (11 kB)\n",
      "Requirement already satisfied: botocore==1.37.17 in c:\\users\\gunnala varshitha\\anaconda3\\lib\\site-packages (from awscli) (1.37.17)\n",
      "Collecting docutils<0.17,>=0.10 (from awscli)\n",
      "  Downloading docutils-0.16-py2.py3-none-any.whl.metadata (2.7 kB)\n",
      "Requirement already satisfied: s3transfer<0.12.0,>=0.11.0 in c:\\users\\gunnala varshitha\\anaconda3\\lib\\site-packages (from awscli) (0.11.4)\n",
      "Requirement already satisfied: PyYAML<6.1,>=3.10 in c:\\users\\gunnala varshitha\\anaconda3\\lib\\site-packages (from awscli) (6.0.1)\n",
      "Requirement already satisfied: colorama<0.4.7,>=0.2.5 in c:\\users\\gunnala varshitha\\anaconda3\\lib\\site-packages (from awscli) (0.4.6)\n",
      "Collecting rsa<4.8,>=3.1.2 (from awscli)\n",
      "  Downloading rsa-4.7.2-py3-none-any.whl.metadata (3.6 kB)\n",
      "Requirement already satisfied: jmespath<2.0.0,>=0.7.1 in c:\\users\\gunnala varshitha\\anaconda3\\lib\\site-packages (from botocore==1.37.17->awscli) (1.0.1)\n",
      "Requirement already satisfied: python-dateutil<3.0.0,>=2.1 in c:\\users\\gunnala varshitha\\anaconda3\\lib\\site-packages (from botocore==1.37.17->awscli) (2.9.0.post0)\n",
      "Requirement already satisfied: urllib3!=2.2.0,<3,>=1.25.4 in c:\\users\\gunnala varshitha\\anaconda3\\lib\\site-packages (from botocore==1.37.17->awscli) (2.2.3)\n",
      "Requirement already satisfied: pyasn1>=0.1.3 in c:\\users\\gunnala varshitha\\anaconda3\\lib\\site-packages (from rsa<4.8,>=3.1.2->awscli) (0.4.8)\n",
      "Requirement already satisfied: six>=1.5 in c:\\users\\gunnala varshitha\\anaconda3\\lib\\site-packages (from python-dateutil<3.0.0,>=2.1->botocore==1.37.17->awscli) (1.16.0)\n",
      "Downloading awscli-1.38.17-py3-none-any.whl (4.7 MB)\n",
      "   ---------------------------------------- 0.0/4.7 MB ? eta -:--:--\n",
      "   ---------------------------------------- 0.0/4.7 MB ? eta -:--:--\n",
      "   ---------------------------------------- 0.0/4.7 MB ? eta -:--:--\n",
      "   -- ------------------------------------- 0.3/4.7 MB ? eta -:--:--\n",
      "   -- ------------------------------------- 0.3/4.7 MB ? eta -:--:--\n",
      "   ---- ----------------------------------- 0.5/4.7 MB 796.8 kB/s eta 0:00:06\n",
      "   ---- ----------------------------------- 0.5/4.7 MB 796.8 kB/s eta 0:00:06\n",
      "   ------ --------------------------------- 0.8/4.7 MB 744.7 kB/s eta 0:00:06\n",
      "   ------ --------------------------------- 0.8/4.7 MB 744.7 kB/s eta 0:00:06\n",
      "   ------ --------------------------------- 0.8/4.7 MB 744.7 kB/s eta 0:00:06\n",
      "   -------- ------------------------------- 1.0/4.7 MB 558.9 kB/s eta 0:00:07\n",
      "   ----------- ---------------------------- 1.3/4.7 MB 604.4 kB/s eta 0:00:06\n",
      "   ----------- ---------------------------- 1.3/4.7 MB 604.4 kB/s eta 0:00:06\n",
      "   ----------- ---------------------------- 1.3/4.7 MB 604.4 kB/s eta 0:00:06\n",
      "   --------------- ------------------------ 1.8/4.7 MB 657.8 kB/s eta 0:00:05\n",
      "   --------------- ------------------------ 1.8/4.7 MB 657.8 kB/s eta 0:00:05\n",
      "   --------------- ------------------------ 1.8/4.7 MB 657.8 kB/s eta 0:00:05\n",
      "   --------------- ------------------------ 1.8/4.7 MB 657.8 kB/s eta 0:00:05\n",
      "   ----------------- ---------------------- 2.1/4.7 MB 578.5 kB/s eta 0:00:05\n",
      "   ----------------- ---------------------- 2.1/4.7 MB 578.5 kB/s eta 0:00:05\n",
      "   ----------------- ---------------------- 2.1/4.7 MB 578.5 kB/s eta 0:00:05\n",
      "   -------------------- ------------------- 2.4/4.7 MB 543.3 kB/s eta 0:00:05\n",
      "   -------------------- ------------------- 2.4/4.7 MB 543.3 kB/s eta 0:00:05\n",
      "   ---------------------- ----------------- 2.6/4.7 MB 549.1 kB/s eta 0:00:04\n",
      "   ---------------------- ----------------- 2.6/4.7 MB 549.1 kB/s eta 0:00:04\n",
      "   ------------------------ --------------- 2.9/4.7 MB 568.6 kB/s eta 0:00:04\n",
      "   ------------------------ --------------- 2.9/4.7 MB 568.6 kB/s eta 0:00:04\n",
      "   ------------------------ --------------- 2.9/4.7 MB 568.6 kB/s eta 0:00:04\n",
      "   -------------------------- ------------- 3.1/4.7 MB 552.5 kB/s eta 0:00:03\n",
      "   -------------------------- ------------- 3.1/4.7 MB 552.5 kB/s eta 0:00:03\n",
      "   ----------------------------- ---------- 3.4/4.7 MB 556.1 kB/s eta 0:00:03\n",
      "   ----------------------------- ---------- 3.4/4.7 MB 556.1 kB/s eta 0:00:03\n",
      "   ----------------------------- ---------- 3.4/4.7 MB 556.1 kB/s eta 0:00:03\n",
      "   ----------------------------- ---------- 3.4/4.7 MB 556.1 kB/s eta 0:00:03\n",
      "   ------------------------------- -------- 3.7/4.7 MB 523.0 kB/s eta 0:00:02\n",
      "   ------------------------------- -------- 3.7/4.7 MB 523.0 kB/s eta 0:00:02\n",
      "   ------------------------------- -------- 3.7/4.7 MB 523.0 kB/s eta 0:00:02\n",
      "   ------------------------------- -------- 3.7/4.7 MB 523.0 kB/s eta 0:00:02\n",
      "   --------------------------------- ------ 3.9/4.7 MB 497.6 kB/s eta 0:00:02\n",
      "   ----------------------------------- ---- 4.2/4.7 MB 515.7 kB/s eta 0:00:01\n",
      "   -------------------------------------- - 4.5/4.7 MB 526.3 kB/s eta 0:00:01\n",
      "   -------------------------------------- - 4.5/4.7 MB 526.3 kB/s eta 0:00:01\n",
      "   -------------------------------------- - 4.5/4.7 MB 526.3 kB/s eta 0:00:01\n",
      "   -------------------------------------- - 4.5/4.7 MB 526.3 kB/s eta 0:00:01\n",
      "   ---------------------------------------- 4.7/4.7 MB 506.4 kB/s eta 0:00:00\n",
      "Downloading docutils-0.16-py2.py3-none-any.whl (548 kB)\n",
      "   ---------------------------------------- 0.0/548.2 kB ? eta -:--:--\n",
      "   ---------------------------------------- 0.0/548.2 kB ? eta -:--:--\n",
      "   ---------------------------------------- 0.0/548.2 kB ? eta -:--:--\n",
      "   ------------------- -------------------- 262.1/548.2 kB ? eta -:--:--\n",
      "   ------------------- -------------------- 262.1/548.2 kB ? eta -:--:--\n",
      "   ------------------- -------------------- 262.1/548.2 kB ? eta -:--:--\n",
      "   -------------------------------------- 548.2/548.2 kB 481.5 kB/s eta 0:00:00\n",
      "Downloading rsa-4.7.2-py3-none-any.whl (34 kB)\n",
      "Installing collected packages: rsa, docutils, awscli\n",
      "  Attempting uninstall: docutils\n",
      "    Found existing installation: docutils 0.18.1\n",
      "    Uninstalling docutils-0.18.1:\n",
      "      Successfully uninstalled docutils-0.18.1\n",
      "Successfully installed awscli-1.38.17 docutils-0.16 rsa-4.7.2\n"
     ]
    },
    {
     "name": "stderr",
     "output_type": "stream",
     "text": [
      "ERROR: pip's dependency resolver does not currently take into account all the packages that are installed. This behaviour is the source of the following dependency conflicts.\n",
      "sphinx 7.3.7 requires docutils<0.22,>=0.18.1, but you have docutils 0.16 which is incompatible.\n"
     ]
    }
   ],
   "source": [
    "!pip install awscli"
   ]
  },
  {
   "cell_type": "code",
   "execution_count": 7,
   "id": "66db4649-906b-4999-85b9-49375810a36c",
   "metadata": {},
   "outputs": [],
   "source": [
    "import boto3\n",
    "s3 = boto3.client(\"s3\")"
   ]
  },
  {
   "cell_type": "code",
   "execution_count": null,
   "id": "53bf6064-740b-4300-af3e-a4a0b66113e9",
   "metadata": {},
   "outputs": [],
   "source": [
    "bucket_name = \"mynlpmru5\"\n",
    "\n",
    "s3.create_bucket(\n",
    "\n",
    "    Bucket=bucket_name,\n",
    "\n",
    "    CreateBucketConfiguration={\"LocationConstraint\": \"eu-north-1\"}\n",
    "\n",
    ")\n",
    "\n",
    "print(f\"Bucket '{bucket_name}' created successfully!\")"
   ]
  },
  {
   "cell_type": "code",
   "execution_count": null,
   "id": "842c4095-e921-4351-8d42-7da1787a3306",
   "metadata": {},
   "outputs": [],
   "source": [
    "response=s3.list_buckets()\n",
    "print(\"Existing Buckets:\")\n",
    "for bucket in response[\"Buckets\"]:\n",
    "    print(f\"={bucket['Name']}\")"
   ]
  },
  {
   "cell_type": "markdown",
   "id": "89416d72-c77b-4699-abd9-f1b6a4316b20",
   "metadata": {},
   "source": []
  },
  {
   "cell_type": "code",
   "execution_count": null,
   "id": "54359cb3-f4e3-40ff-93bd-6a21288b2947",
   "metadata": {},
   "outputs": [],
   "source": [
    "s3.upload_file(\"test.txt\",\"mynlpmru\".\"data/testfile1.txt\")\n",
    "print(\"Upload complete!\")"
   ]
  },
  {
   "cell_type": "code",
   "execution_count": null,
   "id": "06f21b3e-f338-4496-8b14-7dcdfdd84902",
   "metadata": {},
   "outputs": [],
   "source": [
    "s3.download_file(\"mynlpmru\",\"data/testfile1.txt\",\"download_test2.txt\")\n",
    "print(\"Download successfull!\")\n"
   ]
  },
  {
   "cell_type": "code",
   "execution_count": null,
   "id": "1d87372d-7fd4-4381-9e1c-517bb4d46d48",
   "metadata": {},
   "outputs": [],
   "source": []
  }
 ],
 "metadata": {
  "kernelspec": {
   "display_name": "Python 3 (ipykernel)",
   "language": "python",
   "name": "python3"
  },
  "language_info": {
   "codemirror_mode": {
    "name": "ipython",
    "version": 3
   },
   "file_extension": ".py",
   "mimetype": "text/x-python",
   "name": "python",
   "nbconvert_exporter": "python",
   "pygments_lexer": "ipython3",
   "version": "3.12.7"
  }
 },
 "nbformat": 4,
 "nbformat_minor": 5
}
